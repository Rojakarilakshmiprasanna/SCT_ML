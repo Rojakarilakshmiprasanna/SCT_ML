{
  "nbformat": 4,
  "nbformat_minor": 0,
  "metadata": {
    "colab": {
      "provenance": [],
      "authorship_tag": "ABX9TyPZ4pfqx8QgfEhYkU4/hLFL",
      "include_colab_link": true
    },
    "kernelspec": {
      "name": "python3",
      "display_name": "Python 3"
    },
    "language_info": {
      "name": "python"
    }
  },
  "cells": [
    {
      "cell_type": "markdown",
      "metadata": {
        "id": "view-in-github",
        "colab_type": "text"
      },
      "source": [
        "<a href=\"https://colab.research.google.com/github/Rojakarilakshmiprasanna/SCT_ML/blob/main/SCT_ML_3.ipynb\" target=\"_parent\"><img src=\"https://colab.research.google.com/assets/colab-badge.svg\" alt=\"Open In Colab\"/></a>"
      ]
    },
    {
      "cell_type": "code",
      "execution_count": 1,
      "metadata": {
        "colab": {
          "base_uri": "https://localhost:8080/"
        },
        "id": "ZKUsZrR0Vba6",
        "outputId": "6fc4c87a-8c58-42d1-fa09-80a4191d8ec9"
      },
      "outputs": [
        {
          "output_type": "stream",
          "name": "stdout",
          "text": [
            "Please provide your Kaggle credentials to download this dataset. Learn more: http://bit.ly/kaggle-creds\n",
            "Your Kaggle username: lakshmiprasannarojakari\n",
            "Your Kaggle Key: ··········\n",
            "Dataset URL: https://www.kaggle.com/datasets/tongpython/cat-and-dog\n",
            "Downloading cat-and-dog.zip to ./cat-and-dog\n"
          ]
        },
        {
          "output_type": "stream",
          "name": "stderr",
          "text": [
            "100%|██████████| 218M/218M [00:00<00:00, 636MB/s] "
          ]
        },
        {
          "output_type": "stream",
          "name": "stdout",
          "text": [
            "\n"
          ]
        },
        {
          "output_type": "stream",
          "name": "stderr",
          "text": [
            "\n",
            "Loading cats: 100%|██████████| 4001/4001 [00:04<00:00, 842.38it/s] \n",
            "Loading dogs: 100%|██████████| 4006/4006 [00:04<00:00, 998.37it/s] \n",
            "Extracting HOG features: 100%|██████████| 8005/8005 [00:15<00:00, 522.55it/s]\n"
          ]
        },
        {
          "output_type": "stream",
          "name": "stdout",
          "text": [
            "Training SVM...\n",
            "Accuracy: 70.89%\n"
          ]
        }
      ],
      "source": [
        "\n",
        "# Install required libraries\n",
        "!pip install opendatasets scikit-image --quiet\n",
        "\n",
        "# Step 1: Download Kaggle Cats vs Dogs Dataset\n",
        "import opendatasets as od\n",
        "\n",
        "# Replace with your own Kaggle dataset URL if different\n",
        "dataset_url = 'https://www.kaggle.com/datasets/tongpython/cat-and-dog'\n",
        "od.download(dataset_url)\n",
        "\n",
        "import os\n",
        "import cv2\n",
        "import numpy as np\n",
        "from skimage.feature import hog\n",
        "from sklearn.svm import LinearSVC\n",
        "from sklearn.metrics import accuracy_score\n",
        "from sklearn.model_selection import train_test_split\n",
        "from tqdm import tqdm\n",
        "\n",
        "# Step 2: Load and preprocess images\n",
        "data_dir = \"/content/cat-and-dog/training_set/training_set\"\n",
        "categories = [\"cats\", \"dogs\"]\n",
        "\n",
        "images = []\n",
        "labels = []\n",
        "\n",
        "IMG_SIZE = 64  # Resize for faster processing\n",
        "\n",
        "for label, category in enumerate(categories):\n",
        "    folder_path = os.path.join(data_dir, category)\n",
        "    for img_name in tqdm(os.listdir(folder_path), desc=f\"Loading {category}\"):\n",
        "        img_path = os.path.join(folder_path, img_name)\n",
        "        img = cv2.imread(img_path)\n",
        "        if img is None:\n",
        "            continue\n",
        "        img = cv2.resize(img, (IMG_SIZE, IMG_SIZE))\n",
        "        gray = cv2.cvtColor(img, cv2.COLOR_BGR2GRAY)\n",
        "        images.append(gray)\n",
        "        labels.append(label)\n",
        "\n",
        "images = np.array(images)\n",
        "labels = np.array(labels)\n",
        "\n",
        "# Step 3: Extract HOG features\n",
        "hog_features = []\n",
        "for image in tqdm(images, desc=\"Extracting HOG features\"):\n",
        "    features = hog(image, orientations=9, pixels_per_cell=(8, 8),\n",
        "                   cells_per_block=(2, 2), block_norm='L2-Hys')\n",
        "    hog_features.append(features)\n",
        "\n",
        "hog_features = np.array(hog_features)\n",
        "\n",
        "# Step 4: Split data\n",
        "X_train, X_test, y_train, y_test = train_test_split(hog_features, labels, test_size=0.2, random_state=42)\n",
        "\n",
        "# Step 5: Train SVM\n",
        "print(\"Training SVM...\")\n",
        "svm_model = LinearSVC(max_iter=5000)\n",
        "svm_model.fit(X_train, y_train)\n",
        "\n",
        "# Step 6: Predict & Evaluate\n",
        "y_pred = svm_model.predict(X_test)\n",
        "accuracy = accuracy_score(y_test, y_pred)\n",
        "print(f\"Accuracy: {accuracy * 100:.2f}%\")\n"
      ]
    }
  ]
}